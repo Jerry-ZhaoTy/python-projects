{
 "cells": [
  {
   "cell_type": "code",
   "execution_count": 1,
   "id": "8561282f",
   "metadata": {},
   "outputs": [],
   "source": [
    "# project: p1\n",
    "# submitter: tzhao86\n",
    "# partner: none\n",
    "# hours: 10"
   ]
  },
  {
   "cell_type": "code",
   "execution_count": 2,
   "id": "02acbf87",
   "metadata": {},
   "outputs": [
    {
     "data": {
      "text/plain": [
       "float"
      ]
     },
     "execution_count": 2,
     "metadata": {},
     "output_type": "execute_result"
    }
   ],
   "source": [
    "#q1\n",
    "type(7/2)"
   ]
  },
  {
   "cell_type": "code",
   "execution_count": 3,
   "id": "c9afb777",
   "metadata": {},
   "outputs": [
    {
     "data": {
      "text/plain": [
       "True"
      ]
     },
     "execution_count": 3,
     "metadata": {},
     "output_type": "execute_result"
    }
   ],
   "source": [
    "#q2\n",
    "x = 4\n",
    "maximum = 10\n",
    "minimum = 5\n",
    "error = x < minimum  or x > maximum  # True if x is outside the minimum-to-maximum range\n",
    "error"
   ]
  },
  {
   "cell_type": "code",
   "execution_count": 4,
   "id": "67e9af44",
   "metadata": {},
   "outputs": [
    {
     "data": {
      "text/plain": [
       "True"
      ]
     },
     "execution_count": 4,
     "metadata": {},
     "output_type": "execute_result"
    }
   ],
   "source": [
    "#q3\n",
    "word = \"KAFKAESQUE\"\n",
    "suffix_match = word.lower()[-5:] == \"esque\" # .endswith(...) method not allowed for this question! (practice slicing)\n",
    "suffix_match"
   ]
  },
  {
   "cell_type": "code",
   "execution_count": 5,
   "id": "5960cc55",
   "metadata": {},
   "outputs": [],
   "source": [
    "def add(x, y=1):\n",
    "    return x+y"
   ]
  },
  {
   "cell_type": "code",
   "execution_count": 6,
   "id": "ed1afc4a",
   "metadata": {},
   "outputs": [
    {
     "data": {
      "text/plain": [
       "7"
      ]
     },
     "execution_count": 6,
     "metadata": {},
     "output_type": "execute_result"
    }
   ],
   "source": [
    "#q4\n",
    "add(3, 4)"
   ]
  },
  {
   "cell_type": "code",
   "execution_count": 7,
   "id": "9724e98a",
   "metadata": {},
   "outputs": [
    {
     "data": {
      "text/plain": [
       "10"
      ]
     },
     "execution_count": 7,
     "metadata": {},
     "output_type": "execute_result"
    }
   ],
   "source": [
    "#q5\n",
    "add(9)"
   ]
  },
  {
   "cell_type": "code",
   "execution_count": 8,
   "id": "48729ada",
   "metadata": {},
   "outputs": [
    {
     "data": {
      "text/plain": [
       "'positive'"
      ]
     },
     "execution_count": 8,
     "metadata": {},
     "output_type": "execute_result"
    }
   ],
   "source": [
    "#q6\n",
    "x = 4\n",
    "if x < 0:\n",
    "    status = \"negative\"\n",
    "elif x > 0:\n",
    "    status = \"positive\"\n",
    "else:\n",
    "    status = \"zero\"\n",
    "status"
   ]
  },
  {
   "cell_type": "code",
   "execution_count": 9,
   "id": "d99a35be",
   "metadata": {},
   "outputs": [
    {
     "name": "stdout",
     "output_type": "stream",
     "text": [
      "3\n",
      "4\n",
      "1\n",
      "6\n"
     ]
    }
   ],
   "source": [
    "nums = [3, 4, 1, 6]\n",
    "for x in nums:\n",
    "    print(x)\n",
    "def smart_count(nums):\n",
    "    sum = 0\n",
    "    for num in nums :\n",
    "        if num > 10: continue\n",
    "        if num < 0: break\n",
    "        sum = sum + num\n",
    "    return sum"
   ]
  },
  {
   "cell_type": "code",
   "execution_count": 10,
   "id": "7a68838f",
   "metadata": {},
   "outputs": [
    {
     "data": {
      "text/plain": [
       "14"
      ]
     },
     "execution_count": 10,
     "metadata": {},
     "output_type": "execute_result"
    }
   ],
   "source": [
    "#q7\n",
    "smart_count(nums)"
   ]
  },
  {
   "cell_type": "code",
   "execution_count": 11,
   "id": "5d347216",
   "metadata": {},
   "outputs": [
    {
     "data": {
      "text/plain": [
       "6"
      ]
     },
     "execution_count": 11,
     "metadata": {},
     "output_type": "execute_result"
    }
   ],
   "source": [
    "#q8\n",
    "smart_count([2, 1, 11, 3, 15, -1, 8, 2])"
   ]
  },
  {
   "cell_type": "code",
   "execution_count": 12,
   "id": "5017d025",
   "metadata": {},
   "outputs": [],
   "source": [
    "header = [\"A\", \"B\", \"C\"]\n",
    "\n",
    "coord1 = {\"x\": 8, \"y\": 5}\n",
    "coord2 = {\"x\": 9, \"y\": 2}\n",
    "coord3 = {\"x\": 3, \"y\": 1}\n",
    "\n",
    "rows = [\n",
    "    [1, 6, coord1],\n",
    "    [3, 4, coord2],\n",
    "    [5, 2, coord3],\n",
    "]\n"
   ]
  },
  {
   "cell_type": "code",
   "execution_count": 13,
   "id": "65d2a87d",
   "metadata": {},
   "outputs": [
    {
     "data": {
      "text/plain": [
       "[[1, 6, {'x': 8, 'y': 5}],\n",
       " [3, 4, {'x': 9, 'y': 2}],\n",
       " [5, 2, {'x': 3, 'y': 1, 'z': 3.14}]]"
      ]
     },
     "execution_count": 13,
     "metadata": {},
     "output_type": "execute_result"
    }
   ],
   "source": [
    "#q9\n",
    "coord3[\"z\"] = 3.14\n",
    "rows"
   ]
  },
  {
   "cell_type": "code",
   "execution_count": 14,
   "id": "7f415a85",
   "metadata": {},
   "outputs": [
    {
     "data": {
      "text/plain": [
       "8"
      ]
     },
     "execution_count": 14,
     "metadata": {},
     "output_type": "execute_result"
    }
   ],
   "source": [
    "#q10\n",
    "rows[0][-1]['x']"
   ]
  },
  {
   "cell_type": "code",
   "execution_count": 15,
   "id": "0b1109bd",
   "metadata": {},
   "outputs": [
    {
     "data": {
      "text/plain": [
       "[[1, 6, {'x': 8, 'y': 5}],\n",
       " [3, 9999, {'x': 9, 'y': 2}],\n",
       " [5, 2, {'x': 3, 'y': 1, 'z': 3.14}]]"
      ]
     },
     "execution_count": 15,
     "metadata": {},
     "output_type": "execute_result"
    }
   ],
   "source": [
    "#q11\n",
    "import copy\n",
    "v2 = copy.copy(rows)\n",
    "v2[0] = 8888    # first change\n",
    "v2[1][1] = 9999 # second change\n",
    "rows"
   ]
  },
  {
   "cell_type": "code",
   "execution_count": 16,
   "id": "ebbd9f85",
   "metadata": {},
   "outputs": [
    {
     "data": {
      "text/plain": [
       "10007"
      ]
     },
     "execution_count": 16,
     "metadata": {},
     "output_type": "execute_result"
    }
   ],
   "source": [
    "#q12\n",
    "index = header.index(\"B\")\n",
    "sum = 0\n",
    "for row in rows:\n",
    "    sum = sum + row[index]\n",
    "sum"
   ]
  },
  {
   "cell_type": "code",
   "execution_count": 17,
   "id": "5562d97c",
   "metadata": {},
   "outputs": [
    {
     "data": {
      "text/plain": [
       "[[5, 2, {'x': 3, 'y': 1, 'z': 3.14}],\n",
       " [1, 6, {'x': 8, 'y': 5}],\n",
       " [3, 9999, {'x': 9, 'y': 2}]]"
      ]
     },
     "execution_count": 17,
     "metadata": {},
     "output_type": "execute_result"
    }
   ],
   "source": [
    "#q13\n",
    "rows.sort(key=lambda row: row[header.index(\"B\")], reverse=False)\n",
    "rows"
   ]
  },
  {
   "cell_type": "code",
   "execution_count": 18,
   "id": "c200ca05",
   "metadata": {},
   "outputs": [
    {
     "data": {
      "text/plain": [
       "338.712265234992"
      ]
     },
     "execution_count": 18,
     "metadata": {},
     "output_type": "execute_result"
    }
   ],
   "source": [
    "#q14\n",
    "import json\n",
    "f = open(\"usd.json\")\n",
    "data = json.load(f)\n",
    "f.close()\n",
    "Euros = 400 * data['eur']['rate']\n",
    "Euros"
   ]
  },
  {
   "cell_type": "code",
   "execution_count": 19,
   "id": "637f8873",
   "metadata": {},
   "outputs": [],
   "source": [
    "def divide(x, y):\n",
    "    try:\n",
    "        result = x/y\n",
    "    except ZeroDivisionError:\n",
    "        return float(\"nan\")\n",
    "    return result"
   ]
  },
  {
   "cell_type": "code",
   "execution_count": 20,
   "id": "5a078e2b",
   "metadata": {},
   "outputs": [
    {
     "data": {
      "text/plain": [
       "1.5"
      ]
     },
     "execution_count": 20,
     "metadata": {},
     "output_type": "execute_result"
    }
   ],
   "source": [
    "#q15\n",
    "divide(3, 2)"
   ]
  },
  {
   "cell_type": "code",
   "execution_count": 21,
   "id": "fcfd6c51",
   "metadata": {},
   "outputs": [
    {
     "data": {
      "text/plain": [
       "nan"
      ]
     },
     "execution_count": 21,
     "metadata": {},
     "output_type": "execute_result"
    }
   ],
   "source": [
    "#q16\n",
    "divide(-3, 0)"
   ]
  },
  {
   "cell_type": "code",
   "execution_count": 22,
   "id": "87b52a5c",
   "metadata": {},
   "outputs": [
    {
     "data": {
      "text/plain": [
       "[2013, 2014, 2015, 2016, 2017, 2018]"
      ]
     },
     "execution_count": 22,
     "metadata": {},
     "output_type": "execute_result"
    }
   ],
   "source": [
    "#q17\n",
    "import os, pandas, csv\n",
    "files = os.listdir(\"home-computers\")\n",
    "years = {}\n",
    "for file in files:\n",
    "    year = int(file[file.index('Y')+1 : file.index('.')])\n",
    "    f = open(\"home-computers/\" + file)\n",
    "    years[year] = pandas.read_csv(\"home-computers/\" + file, skiprows = [0])\n",
    "    f.close()\n",
    "sorted(years.keys())"
   ]
  },
  {
   "cell_type": "code",
   "execution_count": 23,
   "id": "37207466",
   "metadata": {},
   "outputs": [
    {
     "data": {
      "text/plain": [
       "2371960"
      ]
     },
     "execution_count": 23,
     "metadata": {},
     "output_type": "execute_result"
    }
   ],
   "source": [
    "#q18\n",
    "df = years[2018]\n",
    "area_series = df['Geographic Area Name']\n",
    "wis_index = area_series[area_series == 'Wisconsin'].keys()[0]\n",
    "df['Estimate!!Total'][wis_index]"
   ]
  },
  {
   "cell_type": "code",
   "execution_count": 24,
   "id": "58ded160",
   "metadata": {},
   "outputs": [
    {
     "data": {
      "text/plain": [
       "10285814"
      ]
     },
     "execution_count": 24,
     "metadata": {},
     "output_type": "execute_result"
    }
   ],
   "source": [
    "#q19\n",
    "df = years[2018]\n",
    "df[\"Estimate!!Total!!No Computer\"].sum()"
   ]
  },
  {
   "cell_type": "code",
   "execution_count": 25,
   "id": "45c9a0c8",
   "metadata": {},
   "outputs": [
    {
     "data": {
      "text/plain": [
       "0.12375641594322287"
      ]
     },
     "execution_count": 25,
     "metadata": {},
     "output_type": "execute_result"
    }
   ],
   "source": [
    "#q20\n",
    "df = years[2018]\n",
    "margin_of_error = df[\"Margin of Error!!Total!!No Computer\"]\n",
    "total_estimate = df[\"Estimate!!Total!!No Computer\"]\n",
    "fraction = margin_of_error/total_estimate\n",
    "fraction.max()"
   ]
  },
  {
   "cell_type": "code",
   "execution_count": 26,
   "id": "e0fd1eb3",
   "metadata": {},
   "outputs": [
    {
     "data": {
      "text/plain": [
       "{'Illinois': 8.524143737625552,\n",
       " 'Indiana': 9.463486214247707,\n",
       " 'Iowa': 9.468929459023103,\n",
       " 'Michigan': 8.936374942955922,\n",
       " 'Minnesota': 7.491847623005652,\n",
       " 'Wisconsin': 9.582497175331794}"
      ]
     },
     "execution_count": 26,
     "metadata": {},
     "output_type": "execute_result"
    }
   ],
   "source": [
    "#q21\n",
    "state_list = ['Illinois', 'Indiana', 'Iowa', 'Michigan', 'Minnesota', 'Wisconsin']\n",
    "state_computer_info = {}\n",
    "for state in state_list:\n",
    "    state_index = area_series[area_series == state].keys()[0]\n",
    "    state_percentage = df['Estimate!!Total!!No Computer'][state_index]/df['Estimate!!Total'][state_index]*100\n",
    "    state_computer_info[state] = state_percentage\n",
    "state_computer_info    "
   ]
  },
  {
   "cell_type": "code",
   "execution_count": 27,
   "id": "1612b003",
   "metadata": {},
   "outputs": [
    {
     "data": {
      "text/plain": [
       "<AxesSubplot:xlabel='Geographic Area Name', ylabel='% of Households w/o Computers'>"
      ]
     },
     "execution_count": 27,
     "metadata": {},
     "output_type": "execute_result"
    },
    {
     "data": {
      "image/png": "[encoded data removed]",
      "text/plain": [
       "<Figure size 432x288 with 1 Axes>"
      ]
     },
     "metadata": {
      "needs_background": "light"
     },
     "output_type": "display_data"
    }
   ],
   "source": [
    "#q22\n",
    "series_info = pandas.Series(state_computer_info)\n",
    "info_plot = series_info.plot.bar(fontsize=16)\n",
    "info_plot.set_xlabel(\"Geographic Area Name\", fontdict={'fontsize':16})\n",
    "info_plot.set_ylabel(\"% of Households w/o Computers\", fontdict={'fontsize':16})\n",
    "info_plot"
   ]
  },
  {
   "cell_type": "code",
   "execution_count": 28,
   "id": "c71a9a91",
   "metadata": {
    "scrolled": true
   },
   "outputs": [
    {
     "data": {
      "text/plain": [
       "<AxesSubplot:xlabel='Year', ylabel='WI Households without\\n Computers (thousands)'>"
      ]
     },
     "execution_count": 28,
     "metadata": {},
     "output_type": "execute_result"
    },
    {
     "data": {
      "image/png": "[encoded data removed]",
      "text/plain": [
       "<Figure size 432x288 with 1 Axes>"
      ]
     },
     "metadata": {
      "needs_background": "light"
     },
     "output_type": "display_data"
    }
   ],
   "source": [
    "#q23\n",
    "wis_computer_info = {}\n",
    "for year in sorted(years.keys()):\n",
    "    df = years[year]\n",
    "    area_series = df['Geographic Area Name']\n",
    "    wis_index = area_series[area_series == 'Wisconsin'].keys()[0]\n",
    "    wis_computer_info[year] = df[\"Estimate!!Total!!No Computer\"][wis_index]/1000\n",
    "series_info = pandas.Series(wis_computer_info)\n",
    "info_plot = series_info.plot.line(fontsize=16)\n",
    "info_plot.set_xlabel(\"Year\", fontdict={'fontsize':16})\n",
    "info_plot.set_ylabel(\"WI Households without\\n Computers (thousands)\", fontdict={'fontsize':16})\n",
    "info_plot"
   ]
  },
  {
   "cell_type": "code",
   "execution_count": 29,
   "id": "bcf222e0",
   "metadata": {},
   "outputs": [
    {
     "data": {
      "text/plain": [
       "Text(0, 0.5, 'Tablets (millions)')"
      ]
     },
     "execution_count": 29,
     "metadata": {},
     "output_type": "execute_result"
    },
    {
     "data": {
      "image/png": "[encoded data removed]",
      "text/plain": [
       "<Figure size 432x288 with 1 Axes>"
      ]
     },
     "metadata": {
      "needs_background": "light"
     },
     "output_type": "display_data"
    }
   ],
   "source": [
    "#q24\n",
    "df = years[2018]\n",
    "column_tablets = \"Estimate!!Total!!Has one or more types of computing devices!!Tablet or other portable wireless computer\"\n",
    "column_smartphones = \"Estimate!!Total!!Has one or more types of computing devices!!Smartphone\"\n",
    "df[column_tablets] = df[column_tablets]/1000000\n",
    "df[column_smartphones] = df[column_smartphones]/1000000\n",
    "plot = df.plot.scatter(x=column_smartphones, y=column_tablets, fontsize=16)\n",
    "plot.set_xlabel(\"Smartphones (millions)\", fontdict={'fontsize':16})\n",
    "plot.set_ylabel(\"Tablets (millions)\", fontdict={'fontsize':16})"
   ]
  },
  {
   "cell_type": "code",
   "execution_count": 30,
   "id": "431a096e",
   "metadata": {},
   "outputs": [],
   "source": [
    "from subprocess import check_output"
   ]
  },
  {
   "cell_type": "code",
   "execution_count": 31,
   "id": "c67509ae",
   "metadata": {},
   "outputs": [
    {
     "name": "stderr",
     "output_type": "stream",
     "text": [
      "Already on 'main'\n"
     ]
    },
    {
     "data": {
      "text/plain": [
       "'commit 4e4128313b8d5b5e5d04f2e8e585f64f7c5831a4'"
      ]
     },
     "execution_count": 31,
     "metadata": {},
     "output_type": "execute_result"
    }
   ],
   "source": [
    "#q25\n",
    "git_log_output = str(check_output([\"git\", \"log\"], cwd = \"cs320-p1\"), \"utf-8\").splitlines()\n",
    "check_output([\"git\", \"checkout\", 'main'], cwd = \"cs320-p1\")\n",
    "git_log_output[0]"
   ]
  },
  {
   "cell_type": "code",
   "execution_count": 32,
   "id": "9974ec17",
   "metadata": {},
   "outputs": [
    {
     "data": {
      "text/plain": [
       "['4e4128313b8d5b5e5d04f2e8e585f64f7c5831a4',\n",
       " 'f637df3f45bc389e1035cc3aadcf5d81a55f0dc4',\n",
       " 'c10b5a6cb4f06c96f6f221df2d5ec33af767d5c5',\n",
       " 'f37e610ce055a3d894baac2d9449e6eb77c72320',\n",
       " '6f5ca9327e986315ffcacddce5d9d6195c0913b7',\n",
       " '761627a3ad9ee681f27211326e9149f01764ceee',\n",
       " 'b0df6dbe111f9e28fc3a9c9b841cde5c20c365f9',\n",
       " '6d7beafb8e79b7a92fed8e67673a33bb7f607dbe']"
      ]
     },
     "execution_count": 32,
     "metadata": {},
     "output_type": "execute_result"
    }
   ],
   "source": [
    "#q26\n",
    "commit_numbers = []\n",
    "for line in git_log_output:\n",
    "    if (line.find(\"commit\") == 0):\n",
    "        commit_numbers.append(line.split()[1])\n",
    "commit_numbers"
   ]
  },
  {
   "cell_type": "code",
   "execution_count": 33,
   "id": "102bcbe7",
   "metadata": {},
   "outputs": [
    {
     "name": "stderr",
     "output_type": "stream",
     "text": [
      "Note: switching to '4e4128313b8d5b5e5d04f2e8e585f64f7c5831a4'.\n",
      "\n",
      "You are in 'detached HEAD' state. You can look around, make experimental\n",
      "changes and commit them, and you can discard any commits you make in this\n",
      "state without impacting any branches by switching back to a branch.\n",
      "\n",
      "If you want to create a new branch to retain commits you create, you may\n",
      "do so (now or later) by using -c with the switch command. Example:\n",
      "\n",
      "  git switch -c <new-branch-name>\n",
      "\n",
      "Or undo this operation with:\n",
      "\n",
      "  git switch -\n",
      "\n",
      "Turn off this advice by setting config variable advice.detachedHead to false\n",
      "\n",
      "HEAD is now at 4e41283 only make one pass over list to count all\n",
      "Switched to branch 'main'\n",
      "Note: switching to 'f637df3f45bc389e1035cc3aadcf5d81a55f0dc4'.\n",
      "\n",
      "You are in 'detached HEAD' state. You can look around, make experimental\n",
      "changes and commit them, and you can discard any commits you make in this\n",
      "state without impacting any branches by switching back to a branch.\n",
      "\n",
      "If you want to create a new branch to retain commits you create, you may\n",
      "do so (now or later) by using -c with the switch command. Example:\n",
      "\n",
      "  git switch -c <new-branch-name>\n",
      "\n",
      "Or undo this operation with:\n",
      "\n",
      "  git switch -\n",
      "\n",
      "Turn off this advice by setting config variable advice.detachedHead to false\n",
      "\n",
      "HEAD is now at f637df3 only make one pass over list to count all\n",
      "Previous HEAD position was f637df3 only make one pass over list to count all\n",
      "Switched to branch 'main'\n",
      "Note: switching to 'c10b5a6cb4f06c96f6f221df2d5ec33af767d5c5'.\n",
      "\n",
      "You are in 'detached HEAD' state. You can look around, make experimental\n",
      "changes and commit them, and you can discard any commits you make in this\n",
      "state without impacting any branches by switching back to a branch.\n",
      "\n",
      "If you want to create a new branch to retain commits you create, you may\n",
      "do so (now or later) by using -c with the switch command. Example:\n",
      "\n",
      "  git switch -c <new-branch-name>\n",
      "\n",
      "Or undo this operation with:\n",
      "\n",
      "  git switch -\n",
      "\n",
      "Turn off this advice by setting config variable advice.detachedHead to false\n",
      "\n",
      "HEAD is now at c10b5a6 optimize: only compute count once per unique word\n",
      "Previous HEAD position was c10b5a6 optimize: only compute count once per unique word\n",
      "Switched to branch 'main'\n",
      "Note: switching to 'f37e610ce055a3d894baac2d9449e6eb77c72320'.\n",
      "\n",
      "You are in 'detached HEAD' state. You can look around, make experimental\n",
      "changes and commit them, and you can discard any commits you make in this\n",
      "state without impacting any branches by switching back to a branch.\n",
      "\n",
      "If you want to create a new branch to retain commits you create, you may\n",
      "do so (now or later) by using -c with the switch command. Example:\n",
      "\n",
      "  git switch -c <new-branch-name>\n",
      "\n",
      "Or undo this operation with:\n",
      "\n",
      "  git switch -\n",
      "\n",
      "Turn off this advice by setting config variable advice.detachedHead to false\n",
      "\n",
      "HEAD is now at f37e610 do not repeatedly re-read file, use with to automatically close\n",
      "Previous HEAD position was f37e610 do not repeatedly re-read file, use with to automatically close\n",
      "Switched to branch 'main'\n",
      "Note: switching to '6f5ca9327e986315ffcacddce5d9d6195c0913b7'.\n",
      "\n",
      "You are in 'detached HEAD' state. You can look around, make experimental\n",
      "changes and commit them, and you can discard any commits you make in this\n",
      "state without impacting any branches by switching back to a branch.\n",
      "\n",
      "If you want to create a new branch to retain commits you create, you may\n",
      "do so (now or later) by using -c with the switch command. Example:\n",
      "\n",
      "  git switch -c <new-branch-name>\n",
      "\n",
      "Or undo this operation with:\n",
      "\n",
      "  git switch -\n",
      "\n",
      "Turn off this advice by setting config variable advice.detachedHead to false\n",
      "\n",
      "HEAD is now at 6f5ca93 ignore case, usage line\n",
      "Previous HEAD position was 6f5ca93 ignore case, usage line\n",
      "Switched to branch 'main'\n",
      "Note: switching to '761627a3ad9ee681f27211326e9149f01764ceee'.\n",
      "\n",
      "You are in 'detached HEAD' state. You can look around, make experimental\n",
      "changes and commit them, and you can discard any commits you make in this\n",
      "state without impacting any branches by switching back to a branch.\n",
      "\n",
      "If you want to create a new branch to retain commits you create, you may\n",
      "do so (now or later) by using -c with the switch command. Example:\n",
      "\n",
      "  git switch -c <new-branch-name>\n",
      "\n",
      "Or undo this operation with:\n",
      "\n",
      "  git switch -\n",
      "\n",
      "Turn off this advice by setting config variable advice.detachedHead to false\n",
      "\n",
      "HEAD is now at 761627a bugfix\n",
      "Previous HEAD position was 761627a bugfix\n",
      "Switched to branch 'main'\n",
      "Note: switching to 'b0df6dbe111f9e28fc3a9c9b841cde5c20c365f9'.\n",
      "\n",
      "You are in 'detached HEAD' state. You can look around, make experimental\n",
      "changes and commit them, and you can discard any commits you make in this\n",
      "state without impacting any branches by switching back to a branch.\n",
      "\n",
      "If you want to create a new branch to retain commits you create, you may\n",
      "do so (now or later) by using -c with the switch command. Example:\n",
      "\n",
      "  git switch -c <new-branch-name>\n",
      "\n",
      "Or undo this operation with:\n",
      "\n",
      "  git switch -\n",
      "\n",
      "Turn off this advice by setting config variable advice.detachedHead to false\n",
      "\n",
      "HEAD is now at b0df6db support wildcards\n",
      "Previous HEAD position was b0df6db support wildcards\n",
      "Switched to branch 'main'\n",
      "Note: switching to '6d7beafb8e79b7a92fed8e67673a33bb7f607dbe'.\n",
      "\n",
      "You are in 'detached HEAD' state. You can look around, make experimental\n",
      "changes and commit them, and you can discard any commits you make in this\n",
      "state without impacting any branches by switching back to a branch.\n",
      "\n",
      "If you want to create a new branch to retain commits you create, you may\n",
      "do so (now or later) by using -c with the switch command. Example:\n",
      "\n",
      "  git switch -c <new-branch-name>\n",
      "\n",
      "Or undo this operation with:\n",
      "\n",
      "  git switch -\n",
      "\n",
      "Turn off this advice by setting config variable advice.detachedHead to false\n",
      "\n",
      "HEAD is now at 6d7beaf count a specific word\n",
      "Previous HEAD position was 6d7beaf count a specific word\n",
      "Switched to branch 'main'\n"
     ]
    },
    {
     "data": {
      "text/plain": [
       "{'4e4128313b8d5b5e5d04f2e8e585f64f7c5831a4': 43,\n",
       " 'f637df3f45bc389e1035cc3aadcf5d81a55f0dc4': 40,\n",
       " 'c10b5a6cb4f06c96f6f221df2d5ec33af767d5c5': 40,\n",
       " 'f37e610ce055a3d894baac2d9449e6eb77c72320': 40,\n",
       " '6f5ca9327e986315ffcacddce5d9d6195c0913b7': 39,\n",
       " '761627a3ad9ee681f27211326e9149f01764ceee': 35,\n",
       " 'b0df6dbe111f9e28fc3a9c9b841cde5c20c365f9': 35,\n",
       " '6d7beafb8e79b7a92fed8e67673a33bb7f607dbe': 21}"
      ]
     },
     "execution_count": 33,
     "metadata": {},
     "output_type": "execute_result"
    }
   ],
   "source": [
    "#q27\n",
    "commit_info = {}\n",
    "for commit in commit_numbers:\n",
    "    check_output([\"git\", \"checkout\", commit], cwd = \"cs320-p1\")\n",
    "    f = open(\"cs320-p1/wc.py\")\n",
    "    lines = list(f)\n",
    "    f.close()\n",
    "    check_output([\"git\", \"checkout\", 'main'], cwd = \"cs320-p1\")\n",
    "    commit_info[commit] = len(lines)\n",
    "commit_info"
   ]
  },
  {
   "cell_type": "code",
   "execution_count": 34,
   "id": "89627e7b",
   "metadata": {},
   "outputs": [],
   "source": [
    "f = open(\"input.txt\", \"w\")\n",
    "f.write(\"A B C C\")\n",
    "f.close()"
   ]
  },
  {
   "cell_type": "code",
   "execution_count": 35,
   "id": "6da42b35",
   "metadata": {},
   "outputs": [
    {
     "name": "stderr",
     "output_type": "stream",
     "text": [
      "Note: switching to '4e4128313b8d5b5e5d04f2e8e585f64f7c5831a4'.\n",
      "\n",
      "You are in 'detached HEAD' state. You can look around, make experimental\n",
      "changes and commit them, and you can discard any commits you make in this\n",
      "state without impacting any branches by switching back to a branch.\n",
      "\n",
      "If you want to create a new branch to retain commits you create, you may\n",
      "do so (now or later) by using -c with the switch command. Example:\n",
      "\n",
      "  git switch -c <new-branch-name>\n",
      "\n",
      "Or undo this operation with:\n",
      "\n",
      "  git switch -\n",
      "\n",
      "Turn off this advice by setting config variable advice.detachedHead to false\n",
      "\n",
      "HEAD is now at 4e41283 only make one pass over list to count all\n",
      "Switched to branch 'main'\n"
     ]
    },
    {
     "data": {
      "text/plain": [
       "{'A': 1, 'B': 1, 'C': 2}"
      ]
     },
     "execution_count": 35,
     "metadata": {},
     "output_type": "execute_result"
    }
   ],
   "source": [
    "#q28\n",
    "import json\n",
    "check_output([\"git\", \"checkout\", commit_numbers[0]], cwd = \"cs320-p1\")\n",
    "output = json.loads(str(check_output([\"python3\", \"cs320-p1/wc.py\", \"input.txt\", \"ALL\"]), \"utf-8\"))\n",
    "check_output([\"git\", \"checkout\", 'main'], cwd = \"cs320-p1\")\n",
    "output"
   ]
  },
  {
   "cell_type": "code",
   "execution_count": 36,
   "id": "1cd8e621",
   "metadata": {},
   "outputs": [
    {
     "name": "stderr",
     "output_type": "stream",
     "text": [
      "Note: switching to '4e4128313b8d5b5e5d04f2e8e585f64f7c5831a4'.\n",
      "\n",
      "You are in 'detached HEAD' state. You can look around, make experimental\n",
      "changes and commit them, and you can discard any commits you make in this\n",
      "state without impacting any branches by switching back to a branch.\n",
      "\n",
      "If you want to create a new branch to retain commits you create, you may\n",
      "do so (now or later) by using -c with the switch command. Example:\n",
      "\n",
      "  git switch -c <new-branch-name>\n",
      "\n",
      "Or undo this operation with:\n",
      "\n",
      "  git switch -\n",
      "\n",
      "Turn off this advice by setting config variable advice.detachedHead to false\n",
      "\n",
      "HEAD is now at 4e41283 only make one pass over list to count all\n",
      "Switched to branch 'main'\n",
      "Note: switching to 'f637df3f45bc389e1035cc3aadcf5d81a55f0dc4'.\n",
      "\n",
      "You are in 'detached HEAD' state. You can look around, make experimental\n",
      "changes and commit them, and you can discard any commits you make in this\n",
      "state without impacting any branches by switching back to a branch.\n",
      "\n",
      "If you want to create a new branch to retain commits you create, you may\n",
      "do so (now or later) by using -c with the switch command. Example:\n",
      "\n",
      "  git switch -c <new-branch-name>\n",
      "\n",
      "Or undo this operation with:\n",
      "\n",
      "  git switch -\n",
      "\n",
      "Turn off this advice by setting config variable advice.detachedHead to false\n",
      "\n",
      "HEAD is now at f637df3 only make one pass over list to count all\n",
      "Traceback (most recent call last):\n",
      "  File \"cs320-p1/wc.py\", line 40, in <module>\n",
      "    main()\n",
      "  File \"cs320-p1/wc.py\", line 33, in main\n",
      "    counts[word] += 1\n",
      "KeyError: 'A'\n",
      "Previous HEAD position was f637df3 only make one pass over list to count all\n",
      "Switched to branch 'main'\n",
      "Note: switching to 'c10b5a6cb4f06c96f6f221df2d5ec33af767d5c5'.\n",
      "\n",
      "You are in 'detached HEAD' state. You can look around, make experimental\n",
      "changes and commit them, and you can discard any commits you make in this\n",
      "state without impacting any branches by switching back to a branch.\n",
      "\n",
      "If you want to create a new branch to retain commits you create, you may\n",
      "do so (now or later) by using -c with the switch command. Example:\n",
      "\n",
      "  git switch -c <new-branch-name>\n",
      "\n",
      "Or undo this operation with:\n",
      "\n",
      "  git switch -\n",
      "\n",
      "Turn off this advice by setting config variable advice.detachedHead to false\n",
      "\n",
      "HEAD is now at c10b5a6 optimize: only compute count once per unique word\n",
      "Previous HEAD position was c10b5a6 optimize: only compute count once per unique word\n",
      "Switched to branch 'main'\n",
      "Note: switching to 'f37e610ce055a3d894baac2d9449e6eb77c72320'.\n",
      "\n",
      "You are in 'detached HEAD' state. You can look around, make experimental\n",
      "changes and commit them, and you can discard any commits you make in this\n",
      "state without impacting any branches by switching back to a branch.\n",
      "\n",
      "If you want to create a new branch to retain commits you create, you may\n",
      "do so (now or later) by using -c with the switch command. Example:\n",
      "\n",
      "  git switch -c <new-branch-name>\n",
      "\n",
      "Or undo this operation with:\n",
      "\n",
      "  git switch -\n",
      "\n",
      "Turn off this advice by setting config variable advice.detachedHead to false\n",
      "\n",
      "HEAD is now at f37e610 do not repeatedly re-read file, use with to automatically close\n",
      "Previous HEAD position was f37e610 do not repeatedly re-read file, use with to automatically close\n",
      "Switched to branch 'main'\n",
      "Note: switching to '6f5ca9327e986315ffcacddce5d9d6195c0913b7'.\n",
      "\n",
      "You are in 'detached HEAD' state. You can look around, make experimental\n",
      "changes and commit them, and you can discard any commits you make in this\n",
      "state without impacting any branches by switching back to a branch.\n",
      "\n",
      "If you want to create a new branch to retain commits you create, you may\n",
      "do so (now or later) by using -c with the switch command. Example:\n",
      "\n",
      "  git switch -c <new-branch-name>\n",
      "\n",
      "Or undo this operation with:\n",
      "\n",
      "  git switch -\n",
      "\n",
      "Turn off this advice by setting config variable advice.detachedHead to false\n",
      "\n",
      "HEAD is now at 6f5ca93 ignore case, usage line\n",
      "Previous HEAD position was 6f5ca93 ignore case, usage line\n",
      "Switched to branch 'main'\n",
      "Note: switching to '761627a3ad9ee681f27211326e9149f01764ceee'.\n",
      "\n",
      "You are in 'detached HEAD' state. You can look around, make experimental\n",
      "changes and commit them, and you can discard any commits you make in this\n",
      "state without impacting any branches by switching back to a branch.\n",
      "\n",
      "If you want to create a new branch to retain commits you create, you may\n",
      "do so (now or later) by using -c with the switch command. Example:\n",
      "\n",
      "  git switch -c <new-branch-name>\n",
      "\n",
      "Or undo this operation with:\n",
      "\n",
      "  git switch -\n",
      "\n",
      "Turn off this advice by setting config variable advice.detachedHead to false\n",
      "\n",
      "HEAD is now at 761627a bugfix\n",
      "Previous HEAD position was 761627a bugfix\n",
      "Switched to branch 'main'\n",
      "Note: switching to 'b0df6dbe111f9e28fc3a9c9b841cde5c20c365f9'.\n",
      "\n",
      "You are in 'detached HEAD' state. You can look around, make experimental\n",
      "changes and commit them, and you can discard any commits you make in this\n",
      "state without impacting any branches by switching back to a branch.\n",
      "\n",
      "If you want to create a new branch to retain commits you create, you may\n",
      "do so (now or later) by using -c with the switch command. Example:\n",
      "\n",
      "  git switch -c <new-branch-name>\n",
      "\n",
      "Or undo this operation with:\n",
      "\n",
      "  git switch -\n",
      "\n",
      "Turn off this advice by setting config variable advice.detachedHead to false\n",
      "\n",
      "HEAD is now at b0df6db support wildcards\n",
      "Previous HEAD position was b0df6db support wildcards\n",
      "Switched to branch 'main'\n",
      "Note: switching to '6d7beafb8e79b7a92fed8e67673a33bb7f607dbe'.\n",
      "\n",
      "You are in 'detached HEAD' state. You can look around, make experimental\n",
      "changes and commit them, and you can discard any commits you make in this\n",
      "state without impacting any branches by switching back to a branch.\n",
      "\n",
      "If you want to create a new branch to retain commits you create, you may\n",
      "do so (now or later) by using -c with the switch command. Example:\n",
      "\n",
      "  git switch -c <new-branch-name>\n",
      "\n",
      "Or undo this operation with:\n",
      "\n",
      "  git switch -\n",
      "\n",
      "Turn off this advice by setting config variable advice.detachedHead to false\n",
      "\n",
      "HEAD is now at 6d7beaf count a specific word\n",
      "Previous HEAD position was 6d7beaf count a specific word\n",
      "Switched to branch 'main'\n"
     ]
    },
    {
     "data": {
      "text/plain": [
       "['f637df3f45bc389e1035cc3aadcf5d81a55f0dc4']"
      ]
     },
     "execution_count": 36,
     "metadata": {},
     "output_type": "execute_result"
    }
   ],
   "source": [
    "#q29\n",
    "fail_commits = []\n",
    "for commit in commit_numbers:\n",
    "    try: \n",
    "        check_output([\"git\", \"checkout\", commit], cwd = \"cs320-p1\")\n",
    "        check_output([\"python3\", \"cs320-p1/wc.py\", \"input.txt\", \"ALL\"])\n",
    "        check_output([\"git\", \"checkout\", 'main'], cwd = \"cs320-p1\")\n",
    "    except:\n",
    "        fail_commits.append(commit)\n",
    "        check_output([\"git\", \"checkout\", 'main'], cwd = \"cs320-p1\")\n",
    "fail_commits"
   ]
  },
  {
   "cell_type": "code",
   "execution_count": 37,
   "id": "1fd0aab7",
   "metadata": {},
   "outputs": [
    {
     "name": "stderr",
     "output_type": "stream",
     "text": [
      "Note: switching to '4e4128313b8d5b5e5d04f2e8e585f64f7c5831a4'.\n",
      "\n",
      "You are in 'detached HEAD' state. You can look around, make experimental\n",
      "changes and commit them, and you can discard any commits you make in this\n",
      "state without impacting any branches by switching back to a branch.\n",
      "\n",
      "If you want to create a new branch to retain commits you create, you may\n",
      "do so (now or later) by using -c with the switch command. Example:\n",
      "\n",
      "  git switch -c <new-branch-name>\n",
      "\n",
      "Or undo this operation with:\n",
      "\n",
      "  git switch -\n",
      "\n",
      "Turn off this advice by setting config variable advice.detachedHead to false\n",
      "\n",
      "HEAD is now at 4e41283 only make one pass over list to count all\n",
      "Switched to branch 'main'\n"
     ]
    },
    {
     "data": {
      "text/plain": [
       "Text(0, 0.5, 'Milliseconds')"
      ]
     },
     "execution_count": 37,
     "metadata": {},
     "output_type": "execute_result"
    },
    {
     "data": {
      "image/png": "[encoded data removed]",
      "text/plain": [
       "<Figure size 432x288 with 1 Axes>"
      ]
     },
     "metadata": {
      "needs_background": "light"
     },
     "output_type": "display_data"
    }
   ],
   "source": [
    "#q30\n",
    "import time\n",
    "f = open(\"input.txt\", \"w\")\n",
    "f.write(\"\")\n",
    "f.close()\n",
    "check_output([\"git\", \"checkout\", \"4e4128313b8d5b5e5d04f2e8e585f64f7c5831a4\"], cwd = \"cs320-p1\")\n",
    "input_size = []\n",
    "time_used = []\n",
    "for word in range(0,1000):\n",
    "    f = open(\"input.txt\", \"a+\")\n",
    "    f.write(str(word) + \"\\n\")\n",
    "    f.close()\n",
    "    if(word % 20 != 0): continue\n",
    "    start_time = time.time()\n",
    "    check_output([\"python3\", \"cs320-p1/wc.py\", \"input.txt\", \"ALL\"])\n",
    "    time_used.append((time.time() - start_time) * 1000)\n",
    "    input_size.append(word)\n",
    "check_output([\"git\", \"checkout\", 'main'], cwd = \"cs320-p1\")\n",
    "input_series = pandas.Series(input_size)\n",
    "time_series = pandas.Series(time_used)\n",
    "frame = {'Words': input_series, 'Milliseconds': time_series }\n",
    "df = pandas.DataFrame(frame)\n",
    "plot = df.plot.line(x = 'Words', fontsize = 16)\n",
    "plot.set_xlabel('Words', fontdict={'fontsize':16})\n",
    "plot.set_ylabel('Milliseconds', fontdict={'fontsize':16}) "
   ]
  },
  {
   "cell_type": "code",
   "execution_count": 38,
   "id": "373e8b1b",
   "metadata": {},
   "outputs": [
    {
     "name": "stderr",
     "output_type": "stream",
     "text": [
      "Note: switching to 'f37e610ce055a3d894baac2d9449e6eb77c72320'.\n",
      "\n",
      "You are in 'detached HEAD' state. You can look around, make experimental\n",
      "changes and commit them, and you can discard any commits you make in this\n",
      "state without impacting any branches by switching back to a branch.\n",
      "\n",
      "If you want to create a new branch to retain commits you create, you may\n",
      "do so (now or later) by using -c with the switch command. Example:\n",
      "\n",
      "  git switch -c <new-branch-name>\n",
      "\n",
      "Or undo this operation with:\n",
      "\n",
      "  git switch -\n",
      "\n",
      "Turn off this advice by setting config variable advice.detachedHead to false\n",
      "\n",
      "HEAD is now at f37e610 do not repeatedly re-read file, use with to automatically close\n",
      "Previous HEAD position was f37e610 do not repeatedly re-read file, use with to automatically close\n",
      "Switched to branch 'main'\n"
     ]
    },
    {
     "data": {
      "text/plain": [
       "Text(0, 0.5, 'Milliseconds')"
      ]
     },
     "execution_count": 38,
     "metadata": {},
     "output_type": "execute_result"
    },
    {
     "data": {
      "image/png": "[encoded data removed]",
      "text/plain": [
       "<Figure size 432x288 with 1 Axes>"
      ]
     },
     "metadata": {
      "needs_background": "light"
     },
     "output_type": "display_data"
    }
   ],
   "source": [
    "#q31\n",
    "f = open(\"input.txt\", \"w\")\n",
    "f.write(\"\")\n",
    "f.close()\n",
    "check_output([\"git\", \"checkout\", \"f37e610ce055a3d894baac2d9449e6eb77c72320\"], cwd = \"cs320-p1\")\n",
    "input_size = []\n",
    "time_used = []\n",
    "for word in range(0,1000):\n",
    "    f = open(\"input.txt\", \"a+\")\n",
    "    f.write(str(word) + \"\\n\")\n",
    "    f.close()\n",
    "    if(word % 20 != 0): continue\n",
    "    start_time = time.time()\n",
    "    check_output([\"python3\", \"cs320-p1/wc.py\", \"input.txt\", \"ALL\"])\n",
    "    time_used.append((time.time() - start_time) * 1000)\n",
    "    input_size.append(word)\n",
    "check_output([\"git\", \"checkout\", 'main'], cwd = \"cs320-p1\")\n",
    "input_series = pandas.Series(input_size)\n",
    "time_series = pandas.Series(time_used)\n",
    "frame = {'Words': input_series, 'Milliseconds': time_series }\n",
    "df = pandas.DataFrame(frame)\n",
    "plot = df.plot.line(x = 'Words', fontsize = 16)\n",
    "plot.set_xlabel('Words', fontdict={'fontsize':16})\n",
    "plot.set_ylabel('Milliseconds', fontdict={'fontsize':16}) "
   ]
  },
  {
   "cell_type": "code",
   "execution_count": 39,
   "id": "d798c259",
   "metadata": {},
   "outputs": [
    {
     "name": "stderr",
     "output_type": "stream",
     "text": [
      "Note: switching to '6f5ca9327e986315ffcacddce5d9d6195c0913b7'.\n",
      "\n",
      "You are in 'detached HEAD' state. You can look around, make experimental\n",
      "changes and commit them, and you can discard any commits you make in this\n",
      "state without impacting any branches by switching back to a branch.\n",
      "\n",
      "If you want to create a new branch to retain commits you create, you may\n",
      "do so (now or later) by using -c with the switch command. Example:\n",
      "\n",
      "  git switch -c <new-branch-name>\n",
      "\n",
      "Or undo this operation with:\n",
      "\n",
      "  git switch -\n",
      "\n",
      "Turn off this advice by setting config variable advice.detachedHead to false\n",
      "\n",
      "HEAD is now at 6f5ca93 ignore case, usage line\n",
      "Previous HEAD position was 6f5ca93 ignore case, usage line\n",
      "Switched to branch 'main'\n"
     ]
    },
    {
     "data": {
      "text/plain": [
       "Text(0, 0.5, 'Milliseconds')"
      ]
     },
     "execution_count": 39,
     "metadata": {},
     "output_type": "execute_result"
    },
    {
     "data": {
      "image/png": "[encoded data removed]",
      "text/plain": [
       "<Figure size 432x288 with 1 Axes>"
      ]
     },
     "metadata": {
      "needs_background": "light"
     },
     "output_type": "display_data"
    }
   ],
   "source": [
    "#q32\n",
    "f = open(\"input.txt\", \"w\")\n",
    "f.write(\"\")\n",
    "f.close()\n",
    "check_output([\"git\", \"checkout\", \"6f5ca9327e986315ffcacddce5d9d6195c0913b7\"], cwd = \"cs320-p1\")\n",
    "input_size = []\n",
    "time_used = []\n",
    "for word in range(0,1000):\n",
    "    f = open(\"input.txt\", \"a+\")\n",
    "    f.write(str(word) + \"\\n\")\n",
    "    f.close()\n",
    "    if(word % 20 != 0): continue\n",
    "    start_time = time.time()\n",
    "    check_output([\"python3\", \"cs320-p1/wc.py\", \"input.txt\", \"ALL\"])\n",
    "    time_used.append((time.time() - start_time) * 1000)\n",
    "    input_size.append(word)\n",
    "check_output([\"git\", \"checkout\", 'main'], cwd = \"cs320-p1\")\n",
    "input_series = pandas.Series(input_size)\n",
    "time_series = pandas.Series(time_used)\n",
    "frame = {'Words': input_series, 'Milliseconds': time_series }\n",
    "df = pandas.DataFrame(frame)\n",
    "plot = df.plot.line(x = 'Words', fontsize = 16)\n",
    "plot.set_xlabel('Words', fontdict={'fontsize':16})\n",
    "plot.set_ylabel('Milliseconds', fontdict={'fontsize':16}) "
   ]
  },
  {
   "cell_type": "code",
   "execution_count": null,
   "id": "c106f0ca",
   "metadata": {},
   "outputs": [],
   "source": []
  }
 ],
 "metadata": {
  "kernelspec": {
   "display_name": "Python 3 (ipykernel)",
   "language": "python",
   "name": "python3"
  },
  "language_info": {
   "codemirror_mode": {
    "name": "ipython",
    "version": 3
   },
   "file_extension": ".py",
   "mimetype": "text/x-python",
   "name": "python",
   "nbconvert_exporter": "python",
   "pygments_lexer": "ipython3",
   "version": "3.9.7"
  }
 },
 "nbformat": 4,
 "nbformat_minor": 5
}
